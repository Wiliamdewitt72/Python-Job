{
 "cells": [
  {
   "cell_type": "code",
   "execution_count": 1,
   "metadata": {
    "pycharm": {
     "name": "#%%\n"
    }
   },
   "outputs": [
    {
     "name": "stdout",
     "output_type": "stream",
     "text": [
      "Hello world!\n"
     ]
    }
   ],
   "source": [
    "print(\"Hello world!\")"
   ]
  },
  {
   "cell_type": "markdown",
   "metadata": {
    "pycharm": {
     "name": "#%% md\n"
    }
   },
   "source": [
    "Info acerca de esto: \n",
    "- https://docs.python.org/es/3/library/stdtypes.html#numeric-types-int-float-complex\n",
    "- https://docs.microsoft.com/es-mx/learn/modules/python-create-run-program/2-print\n",
    "- https://docs.microsoft.com/es-mx/learn/modules/intro-to-python/4-variables"
   ]
  },
  {
   "cell_type": "markdown",
   "metadata": {
    "pycharm": {
     "name": "#%% md\n"
    }
   },
   "source": [
    "## Variables"
   ]
  },
  {
   "cell_type": "markdown",
   "metadata": {
    "pycharm": {
     "name": "#%% md\n"
    }
   },
   "source": [
    "Las variables pueden definirse con mayusculas y minusculas, e incluir el caracter de subrayado `_`, sin embargo, no pueden empezar con un número."
   ]
  },
  {
   "cell_type": "code",
   "execution_count": null,
   "metadata": {
    "pycharm": {
     "name": "#%%\n"
    }
   },
   "outputs": [],
   "source": [
    "sum = 1 + 2\n",
    "#Las variables pueden almacenar lo que sea.\n",
    "\n",
    "producto = sum * 2 # (1)\n",
    "producto = producto + producto # (2)\n",
    "#También estar definidas mediante otras variables (1) o redefinirse usandose a si mismas(2).\n",
    "\n",
    "print(producto)\n",
    "#Así se imprime una variable."
   ]
  },
  {
   "cell_type": "markdown",
   "metadata": {
    "pycharm": {
     "name": "#%% md\n"
    }
   },
   "source": [
    "## Tipos de datos"
   ]
  },
  {
   "cell_type": "code",
   "execution_count": null,
   "metadata": {
    "pycharm": {
     "name": "#%%\n"
    }
   },
   "outputs": [],
   "source": [
    "numero_entero = 9  # int\n",
    "\n",
    "cumpleaños = 3.12  # float\n",
    "\n",
    "numero_complejo = 5j  # complex\n",
    "\n",
    "verdad_o_falso = True  # boolean\n",
    "\n",
    "una_palabra = \"palabra\"  # str, es una cadena"
   ]
  },
  {
   "cell_type": "markdown",
   "metadata": {
    "pycharm": {
     "name": "#%% md\n"
    }
   },
   "source": [
    "### Cadenas"
   ]
  },
  {
   "cell_type": "markdown",
   "metadata": {
    "pycharm": {
     "name": "#%% md\n"
    }
   },
   "source": [
    "Rebanadas\n",
    "Indexar cadenas"
   ]
  },
  {
   "cell_type": "markdown",
   "metadata": {
    "pycharm": {
     "name": "#%% md\n"
    }
   },
   "source": [
    "Adicionalmente existen funciones para conversión de tipos de datos númericos entre si, como la funcion `int()` que convierte flotantes o complejos a enteros. Algunos ejemplos de las funciones:"
   ]
  },
  {
   "cell_type": "code",
   "execution_count": 34,
   "metadata": {
    "pycharm": {
     "name": "#%%\n"
    }
   },
   "outputs": [
    {
     "name": "stdout",
     "output_type": "stream",
     "text": [
      "Cumpleaños siendo flotante:  -3.12\n",
      "Cumpleaños siendo entero:  -3 \n",
      "Tipo:  <class 'int'>\n",
      "Cumpleaños siendo flotante otra vez:  -3.0 \n",
      "Tipo:  <class 'float'>\n",
      "Valor absoluto:  3.0\n",
      "Ahora es una cadena :D ->  3.0  | tipo:  <class 'str'>\n"
     ]
    }
   ],
   "source": [
    "cumpleaños = -3.12  # float\n",
    "print(\"Cumpleaños siendo flotante: \", cumpleaños)\n",
    "\n",
    "cumpleaños = int(cumpleaños) # Convierte a entero\n",
    "print(\"Cumpleaños siendo entero: \", cumpleaños, \"\\nTipo: \", type(cumpleaños))\n",
    "\n",
    "cumpleaños = float(cumpleaños) # Convierte a flotante\n",
    "print(\"Cumpleaños siendo flotante otra vez: \",\n",
    "      cumpleaños, \"\\nTipo: \", type(cumpleaños))\n",
    "\n",
    "cumpleaños = abs(cumpleaños) # Convierte a valor absoluto\n",
    "print(\"Valor absoluto: \",\n",
    "      cumpleaños)\n",
    "\n",
    "cumpleaños = str(cumpleaños) # Convierte a cadena\n",
    "print(\"Ahora es una cadena :D -> \", cumpleaños, \" | tipo: \", type(cumpleaños))"
   ]
  },
  {
   "cell_type": "markdown",
   "metadata": {
    "pycharm": {
     "name": "#%% md\n"
    }
   },
   "source": [
    "## Operadores"
   ]
  },
  {
   "cell_type": "markdown",
   "metadata": {
    "pycharm": {
     "name": "#%% md\n"
    }
   },
   "source": [
    "#### Concatenación\n"
   ]
  },
  {
   "cell_type": "markdown",
   "metadata": {
    "pycharm": {
     "name": "#%% md\n"
    }
   },
   "source": [
    "Es una *operación entre cadenas*, donde básicamente se suman unas a otras; el resultado es una cadena compuesta por las dos cadenas anteriores. Ejemplo:"
   ]
  },
  {
   "cell_type": "code",
   "execution_count": 1,
   "metadata": {
    "pycharm": {
     "name": "#%%\n"
    }
   },
   "outputs": [
    {
     "name": "stdout",
     "output_type": "stream",
     "text": [
      "Hello World!\n"
     ]
    }
   ],
   "source": [
    "x = 'Hello' + ' ' + 'World!'\n",
    "print(x) # outputs: Hello World!"
   ]
  },
  {
   "cell_type": "markdown",
   "metadata": {
    "pycharm": {
     "name": "#%% md\n"
    }
   },
   "source": [
    "### Boleanos"
   ]
  },
  {
   "cell_type": "code",
   "execution_count": 2,
   "metadata": {
    "pycharm": {
     "name": "#%%\n"
    }
   },
   "outputs": [
    {
     "name": "stdout",
     "output_type": "stream",
     "text": [
      "Comida:  True\n",
      "Comida:  False\n",
      "Comida:  True\n"
     ]
    }
   ],
   "source": [
    "# Boleanos\n",
    "a = True\n",
    "b = False\n",
    "c = True\n",
    "\n",
    "comida = a or b # = True\n",
    "print(\"Comida: \", comida)\n",
    "\n",
    "comida = a and b # = False\n",
    "print(\"Comida: \", comida)\n",
    "\n",
    "comida = not b # = True\n",
    "print(\"Comida: \", comida)"
   ]
  },
  {
   "cell_type": "markdown",
   "metadata": {
    "pycharm": {
     "name": "#%% md\n"
    }
   },
   "source": [
    "Los operadores Boleanos se comportan como operadores lógicos comunes, y obedecen a las mimas tablas de verdad."
   ]
  },
  {
   "cell_type": "markdown",
   "metadata": {
    "pycharm": {
     "name": "#%% md\n"
    }
   },
   "source": []
  },
  {
   "cell_type": "markdown",
   "metadata": {
    "pycharm": {
     "name": "#%% md\n"
    }
   },
   "source": [
    "### Númericos"
   ]
  },
  {
   "cell_type": "code",
   "execution_count": null,
   "metadata": {
    "pycharm": {
     "name": "#%%\n"
    }
   },
   "outputs": [],
   "source": [
    "#Numericos\n",
    "entero1 = 4\n",
    "entero2 = 3\n",
    "complejo = 7j\n",
    "flotante = 4.1\n",
    "\n",
    "print(entero1 + entero2)  # entero + entero = entero\n",
    "\n",
    "print(complejo + flotante)  # complejo + flotante = complejo\n",
    "\n",
    "print(entero1 + flotante)  # entero + complejo = flotante\n",
    "\n",
    "print(entero1 ** entero2) # Potencia, entero1 a la entero2\n",
    "\n",
    "print(entero1 * entero2) # Multiplicación normal\n",
    "\n",
    "print(entero1 % entero2) # Residuo de la división\n",
    "\n",
    "print(entero1 // entero2) # Divisón entera\n",
    "\n",
    "print(entero1 / entero2) # División común\n",
    "\n"
   ]
  },
  {
   "cell_type": "markdown",
   "metadata": {
    "pycharm": {
     "name": "#%% md\n"
    }
   },
   "source": [
    "Al igual que en C++ hay *operadores de asignación*.\n",
    "- Nota: En python el código de las opreaciones se lee de derecha a izquierda."
   ]
  },
  {
   "cell_type": "code",
   "execution_count": null,
   "metadata": {
    "pycharm": {
     "name": "#%%\n"
    }
   },
   "outputs": [],
   "source": [
    "x = 5\n",
    "\n",
    "x += 3 # x = x + 3\n",
    "\n",
    "x -= 4 # x = x - 4\n",
    "\n",
    "x /=2 # x = x / 2\n",
    "\n",
    "x *= 5 # x = x * 5\n",
    "\n",
    "x //= 5 # x = x // 5\n",
    "\n",
    "x **= 3 # x = x ** 3\n",
    "\n",
    "x %= 3 # x = x % 3\n",
    "\n",
    "print(x)"
   ]
  },
  {
   "cell_type": "markdown",
   "metadata": {
    "pycharm": {
     "name": "#%% md\n"
    }
   },
   "source": [
    "### Operadores de comparación"
   ]
  },
  {
   "cell_type": "markdown",
   "metadata": {
    "pycharm": {
     "name": "#%% md\n"
    }
   },
   "source": [
    "En esta *operación* se determina la relación que existe entre ambos. El resultado de los operadores siempre es un valor boleano, es decir, la afirmación de la *comparación* es verdadera o falsa."
   ]
  },
  {
   "cell_type": "code",
   "execution_count": 6,
   "metadata": {
    "pycharm": {
     "name": "#%%\n"
    }
   },
   "outputs": [
    {
     "name": "stdout",
     "output_type": "stream",
     "text": [
      "False\n",
      "True\n",
      "True\n",
      "False\n"
     ]
    }
   ],
   "source": [
    "a = 1\n",
    "b = 2\n",
    "c = [1, 2, 3]\n",
    "\n",
    "a < b # True\n",
    "\n",
    "a <=b # True\n",
    "\n",
    "a > b  # False\n",
    "\n",
    "a >= b # False\n",
    "\n",
    "a == b # False\n",
    "\n",
    "a != b # True\n",
    "\n",
    "print(a is b) # ¿a es b?\n",
    "\n",
    "print(a is not b) # ¿a no es b?\n",
    "\n",
    "print(a in c) # pertenece\n",
    "\n",
    "print(a not in c) # no pertenece"
   ]
  },
  {
   "cell_type": "code",
   "execution_count": 1,
   "metadata": {
    "pycharm": {
     "name": "#%%\n"
    }
   },
   "outputs": [
    {
     "name": "stdout",
     "output_type": "stream",
     "text": [
      "33\n",
      "True\n",
      "False\n",
      "False\n",
      "True\n",
      "33\n",
      "33\n",
      "33\n"
     ]
    }
   ],
   "source": [
    "a = 1\n",
    "b = 2\n",
    "c = 3\n",
    "e = 4\n",
    "f = 5\n",
    "g = 6\n",
    "\n",
    "# True and-expressions return the result of the last operation:\n",
    "print(b + c * f >= e and (f + g) * c)  # (17 >= 4 is True) and 33 -> 33\n",
    "print((f + g) * c and b + c * f >= e)  # 33 and (17 >= 4 is True) --> True\n",
    "\n",
    "# False and-expressions return a boolean False value:\n",
    "print(b + c * f <= e and (f + g) * c)  # (17 <= 4 is False) and 33 --> False\n",
    "print((f + g) * c and b + c * f <= e)  # 33 and (17 <= 4 is False) --> False\n",
    "\n",
    "# True or-expressions return the result of the first operation:\n",
    "print(b + c * f >= e or (f + g) * c)  # (17 >= 4 is True) or 33 --> True\n",
    "print((f + g) * c or b + c * f >= e)  # 33 or (17 >= 4 is True) --> 33\n",
    "\n",
    "# True-False or-expressions return the True part:\n",
    "print((f + g) * c or b + c * f <= e)  # 33 or (17 <= 4 is False) --> 33\n",
    "print(b + c * f <= e or (f + g) * c)  # (17 <= 4 is False) or 33 --> 33\n"
   ]
  },
  {
   "cell_type": "markdown",
   "metadata": {
    "pycharm": {
     "name": "#%% md\n"
    }
   },
   "source": [
    "## Input\n"
   ]
  },
  {
   "cell_type": "markdown",
   "metadata": {
    "pycharm": {
     "name": "#%% md\n"
    }
   },
   "source": [
    "Todas los datos que se introducen a través de la función `input()` se guardan como datos de tipo `string`."
   ]
  },
  {
   "cell_type": "code",
   "execution_count": null,
   "metadata": {
    "pycharm": {
     "name": "#%%\n"
    }
   },
   "outputs": [],
   "source": [
    "dato = input()\n",
    "print(type(dato))"
   ]
  },
  {
   "cell_type": "markdown",
   "metadata": {
    "pycharm": {
     "name": "#%% md\n"
    }
   },
   "source": [
    "¿Qué ocurre si la entrada no es numérica y se pasa a la función `int()`? Como puede imaginar, esto sería un error y produciría un error de runtime."
   ]
  },
  {
   "cell_type": "markdown",
   "metadata": {
    "pycharm": {
     "name": "#%% md\n"
    }
   },
   "source": [
    "## Listas"
   ]
  },
  {
   "cell_type": "markdown",
   "metadata": {
    "pycharm": {
     "name": "#%% md\n"
    }
   },
   "source": [
    "Son un objeto donde se pueden guardar diversos valores de forma ordenada. Algo parecido a un *vector*. Pueden contener diferentes tipos de datos, repetirse e incluso contener a otras listas dentro de si mismas.\n",
    "También pueden estar vacías."
   ]
  },
  {
   "cell_type": "code",
   "execution_count": null,
   "metadata": {
    "pycharm": {
     "name": "#%%\n"
    }
   },
   "outputs": [],
   "source": [
    "different_objects = ['a', 1, 'b', 2.0, [1, 2, 3]] # Tipos diferentes\n",
    "\n",
    "on_off_list = ['on', 'off', 'on', 'off', 'on'] # Valores repetidos\n",
    "\n",
    "list_empty = [] # Lista vacía"
   ]
  },
  {
   "cell_type": "markdown",
   "metadata": {
    "pycharm": {
     "name": "#%% md\n"
    }
   },
   "source": [
    "\n",
    "Si se imprime, la salida será la lista de valores separados por comas, todo entre corchetes; en el mismo orden en el que se definio. "
   ]
  },
  {
   "cell_type": "code",
   "execution_count": 4,
   "metadata": {
    "pycharm": {
     "name": "#%%\n"
    }
   },
   "outputs": [
    {
     "name": "stdout",
     "output_type": "stream",
     "text": [
      "['corgi', 'labrador', 'poodle', 'jack russell']\n"
     ]
    }
   ],
   "source": [
    "dog_breeds = ['corgi', 'labrador', 'poodle', 'jack russell']\n",
    "print(dog_breeds)"
   ]
  },
  {
   "cell_type": "markdown",
   "metadata": {
    "pycharm": {
     "name": "#%% md\n"
    }
   },
   "source": [
    "También se puede transformar una cadena en una lista mediante la función `list()`. Esto es porque las cadenas son *iterables*, a diferencia de un número entero el cual *no es iterable*"
   ]
  },
  {
   "cell_type": "code",
   "execution_count": 9,
   "metadata": {
    "pycharm": {
     "name": "#%%\n"
    }
   },
   "outputs": [
    {
     "name": "stdout",
     "output_type": "stream",
     "text": [
      "['c', 'a', 'd', 'e', 'n', 'a', ' ', 'j', 's', 'j', 's']\n",
      "11\n",
      "11\n"
     ]
    }
   ],
   "source": [
    "Cadena = \"cadena jsjs\"\n",
    "lista = list(Cadena)\n",
    "print(lista)\n",
    "print(len(lista)) # 'len' = longitud de la lista\n",
    "print(len(Cadena)) # 'len' = longitud de la cadena"
   ]
  },
  {
   "cell_type": "markdown",
   "metadata": {
    "pycharm": {
     "name": "#%% md\n"
    }
   },
   "source": [
    "Ejemplo de número:"
   ]
  },
  {
   "cell_type": "code",
   "execution_count": null,
   "metadata": {
    "pycharm": {
     "name": "#%%\n"
    }
   },
   "outputs": [],
   "source": [
    "Cadena = 562837\n",
    "lista = list(Cadena)\n",
    "print(lista)"
   ]
  },
  {
   "cell_type": "markdown",
   "metadata": {
    "pycharm": {
     "name": "#%% md\n"
    }
   },
   "source": [
    "## REPL\n"
   ]
  },
  {
   "cell_type": "markdown",
   "metadata": {
    "pycharm": {
     "name": "#%% md\n"
    }
   },
   "source": [
    "Para introducir varias líneas de código en el REPL, se usa `;/` y así se ejecutan varias líneas. Ejmplo:"
   ]
  },
  {
   "cell_type": "code",
   "execution_count": 2,
   "metadata": {
    "pycharm": {
     "name": "#%%\n"
    }
   },
   "outputs": [
    {
     "name": "stdout",
     "output_type": "stream",
     "text": [
      "The sum is:  6\n"
     ]
    }
   ],
   "source": [
    "first_number = int(input('Type the first number: ')) ;\\\n",
    "second_number = int(input('Type the second number: ')) ;\\\n",
    "print(\"The sum is: \", first_number + second_number)"
   ]
  },
  {
   "cell_type": "markdown",
   "metadata": {
    "pycharm": {
     "name": "#%% md\n"
    }
   },
   "source": [
    "## Importar modulos y paquetes"
   ]
  },
  {
   "cell_type": "markdown",
   "metadata": {
    "pycharm": {
     "name": "#%% md\n"
    }
   },
   "source": [
    "Un módulo es un archivo con terminación `.py` que contiene código de python. Un paquete es un conjunto de modulos o archivos `.py`, además, tiene un archivo `__init__.py`, este es como el *pegamento* que une los modulos y subpaquetes en el paquete. Si fuera un edificio de departamentos, `__init__.py` sería el lobby y los modulos los departamentos."
   ]
  },
  {
   "cell_type": "code",
   "execution_count": 17,
   "metadata": {
    "pycharm": {
     "name": "#%%\n"
    }
   },
   "outputs": [],
   "source": [
    "import string # Así se importa un modulo"
   ]
  },
  {
   "cell_type": "markdown",
   "metadata": {
    "pycharm": {
     "name": "#%% md\n"
    }
   },
   "source": [
    "Si se prefiere, se pueden importar las funciones o variables contenidas dentro de un módulo de la siguente forma."
   ]
  },
  {
   "cell_type": "code",
   "execution_count": null,
   "metadata": {
    "pycharm": {
     "name": "#%%\n"
    }
   },
   "outputs": [],
   "source": [
    "from string import digits, ascii_lowercase, ascii_uppercase # Ademas de estas variables también se importa el modulo.\n",
    "\n",
    "print(digits)\n",
    "print(ascii_lowercase)\n",
    "print(ascii_uppercase)\n",
    "# Estas variables se mostraran porque ahora forman parte de el archivo actual.\n",
    "\n",
    "print(string.hexdigits) # Para llamar otra variable del modulo se hace de la manera anterior, sino, marca error.\n",
    "\n",
    "print() # Error -> No se ha definido en este archivo.\n",
    "\n",
    "digits = digits + string.hexdigits + ascii_lowercase\n",
    "print(digits) # Si se hacen cambios a las variables en este documento no se combinan con los valores que se tienen en el modulo original.\n",
    "\n"
   ]
  },
  {
   "cell_type": "markdown",
   "metadata": {
    "pycharm": {
     "name": "#%% md\n"
    }
   },
   "source": [
    "Si se importa un paquete, sólo se podrá acceder a las funciones y variables dentro del archivo `__init__.py`.\n",
    "\n",
    "Se puede cambiar el nombre con que se hace referencia al modulo importado de la siguiente manera:"
   ]
  },
  {
   "cell_type": "code",
   "execution_count": null,
   "metadata": {
    "pycharm": {
     "name": "#%%\n"
    }
   },
   "outputs": [],
   "source": [
    "import string as cadena # Se le cambia el nombre de referencia del modulo.\n",
    "\n",
    "print(cadena.ascii_lowercase)"
   ]
  },
  {
   "cell_type": "code",
   "execution_count": null,
   "metadata": {
    "pycharm": {
     "name": "#%%\n"
    }
   },
   "outputs": [],
   "source": [
    "from string import ascii_lowercase as minusculas # Cambio de nombre de referencia de la funión importada.\n",
    "\n",
    "print(minusculas)"
   ]
  },
  {
   "cell_type": "markdown",
   "metadata": {},
   "source": [
    "Siempre que se importa un modulo, este se ejecuta. \n",
    "```import un_modulo```\n",
    "\n",
    "La línea de arriba hará que el modulo se ejecute y todas las cosas que en el están declaradas. Para solucionarlo, una buena practica es escribir el siguiente codigo dentro del modulo."
   ]
  },
  {
   "cell_type": "code",
   "execution_count": null,
   "metadata": {},
   "outputs": [],
   "source": [
    "\n",
    "# Funciones y variables dentro del modulo\n",
    "def main():\n",
    "    print(\"kjsaflaskdlas\")\n",
    "declarado = \"kjafja\"\n",
    "def otra_función():\n",
    "    print(declarado)\n",
    "# Buena practica abajo:\n",
    "\n",
    "if __name__ == \"__main__\": # Si se quieren ejecutar las funciones desde dentro del archivo, el if debe ser True, por lo tanto ejecutará las funciones, de lo contrario, será False y eso implicará que las funciones se están ejecutando desde el mismo archivo en el que están escritas. \n",
    "    main()\n",
    "    otra_función()"
   ]
  }
 ],
 "metadata": {
  "kernelspec": {
   "display_name": "Python 3.10.5 64-bit (windows store)",
   "language": "python",
   "name": "python3"
  },
  "language_info": {
   "codemirror_mode": {
    "name": "ipython",
    "version": 3
   },
   "file_extension": ".py",
   "mimetype": "text/x-python",
   "name": "python",
   "nbconvert_exporter": "python",
   "pygments_lexer": "ipython3",
   "version": "3.10.6"
  },
  "orig_nbformat": 4,
  "vscode": {
   "interpreter": {
    "hash": "9e6d9b908a23d3132fc2b3f5b97fbd800b70390380001875df7af25191760187"
   }
  }
 },
 "nbformat": 4,
 "nbformat_minor": 2
}
