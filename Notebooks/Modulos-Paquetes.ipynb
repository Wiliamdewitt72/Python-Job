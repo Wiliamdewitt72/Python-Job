{
 "cells": [
  {
   "cell_type": "markdown",
   "metadata": {},
   "source": [
    "# Modulos"
   ]
  },
  {
   "cell_type": "markdown",
   "metadata": {},
   "source": [
    "Un modulo es basicamente un archivo con terminación `.py`, que contiene variables, constantes, funciones, etc. \n",
    "\n",
    "Las funcionalidades de dentro de los modulos se pueden reusar en otros archivos, esto se puede hacer da varias formas:"
   ]
  },
  {
   "cell_type": "code",
   "execution_count": null,
   "metadata": {},
   "outputs": [],
   "source": [
    "# Sea: modulo -> un modulo\n",
    "\n",
    "import modulo # importa el modulo y lo ejecuta.\n",
    "\n",
    "import modulo as modulo1 # importa el modulo y lo renombra como \"modulo1\" y lo ejecuta.\n",
    "\n",
    "from modulo import función # importa solamente la función o variable de dentro del modulo.\n",
    "\n",
    "from modulo import función as funtion # Lo mismo que la anterior sólo que ahora para llamar a la función se debe escribir \"funtion\" en vez de \"función\"."
   ]
  },
  {
   "cell_type": "markdown",
   "metadata": {},
   "source": [
    "Existe la posibilidad de que un modulo este anidado en otro. Cuando hay muchos modulos agrupados organizados jerarquicamente se le conoce como **paquete**. Es basicamente un directorio que contiene un *indice*, y está descrito por un archivo nombrado `__init__.py`; en este archivo no solo se tienen"
   ]
  },
  {
   "cell_type": "markdown",
   "metadata": {},
   "source": [
    "# Paquetes"
   ]
  }
 ],
 "metadata": {
  "kernelspec": {
   "display_name": "Python 3.10.6 64-bit (windows store)",
   "language": "python",
   "name": "python3"
  },
  "language_info": {
   "name": "python",
   "version": "3.10.6"
  },
  "orig_nbformat": 4,
  "vscode": {
   "interpreter": {
    "hash": "9e6d9b908a23d3132fc2b3f5b97fbd800b70390380001875df7af25191760187"
   }
  }
 },
 "nbformat": 4,
 "nbformat_minor": 2
}
